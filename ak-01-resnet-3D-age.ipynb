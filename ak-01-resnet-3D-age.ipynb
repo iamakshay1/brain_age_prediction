{
 "cells": [
  {
   "cell_type": "code",
   "execution_count": 4,
   "metadata": {
    "tags": []
   },
   "outputs": [],
   "source": [
    "import torch\n",
    "import numpy as np\n",
    "import pandas as pd\n",
    "import nibabel as nib\n",
    "import os\n",
    "from torch.utils.data import DataLoader, Dataset\n",
    "from resnet import generate_model\n",
    "from torch import nn\n",
    "import SimpleITK as sitk\n",
    "from torch.utils.data import DataLoader\n",
    "from torch.utils.data import random_split\n",
    "import seaborn as sns"
   ]
  },
  {
   "cell_type": "code",
   "execution_count": 2,
   "metadata": {},
   "outputs": [],
   "source": [
    "cuda_dev = '0' #GPU device 0 (can be changed if multiple GPUs are available)\n",
    "\n",
    "use_cuda = torch.cuda.is_available()\n",
    "device = torch.device(\"cuda:\" + cuda_dev if use_cuda else \"cpu\")"
   ]
  },
  {
   "cell_type": "code",
   "execution_count": null,
   "metadata": {},
   "outputs": [],
   "source": [
    "data_dir = r'inputs/shared/brain_age/'"
   ]
  },
  {
   "cell_type": "code",
   "execution_count": null,
   "metadata": {},
   "outputs": [],
   "source": [
    "def registration(fixed_image, moving_image):\n",
    "\n",
    "    # Create an instance of ImageRegistrationMethod\n",
    "    registration = sitk.ImageRegistrationMethod()\n",
    "\n",
    "    # Set the metric as correlation and specify optimizer parameters\n",
    "    registration.SetMetricAsCorrelation()\n",
    "    registration.SetOptimizerAsRegularStepGradientDescent(learningRate=5.0,\n",
    "                                           minStep=1e-4,\n",
    "                                           numberOfIterations=20,\n",
    "                                           gradientMagnitudeTolerance=1e-8)\n",
    "\n",
    "    # Set optimizer scales based on index shift\n",
    "    registration.SetOptimizerScalesFromIndexShift()\n",
    "\n",
    "    # Calculate an initial transformation for geometric alignment\n",
    "    initialization = sitk.CenteredTransformInitializer(fixed_image, \n",
    "                                              moving_image, \n",
    "                                              sitk.AffineTransform(3), \n",
    "                                              sitk.CenteredTransformInitializerFilter.GEOMETRY)\n",
    "\n",
    "    # Set the initial transform and interpolator\n",
    "    registration.SetInitialTransform(initialization)\n",
    "    registration.SetInterpolator(sitk.sitkLinear)\n",
    "\n",
    "    # Execute the registration process\n",
    "    output= registration.Execute(fixed_image, moving_image)\n",
    "    \n",
    "    return output  # Return the transformation\n",
    "\n",
    "def resample_image(reference, floating,transformation):\n",
    "    res = sitk.ResampleImageFilter()\n",
    "    res.SetReferenceImage(reference)\n",
    "    res.SetInterpolator(sitk.sitkLinear)\n",
    "    res.SetDefaultPixelValue(0)\n",
    "\n",
    "    res.SetTransform(transformation)\n",
    "    return res.Execute(floating)"
   ]
  },
  {
   "cell_type": "code",
   "execution_count": null,
   "metadata": {},
   "outputs": [],
   "source": []
  },
  {
   "cell_type": "code",
   "execution_count": 5,
   "metadata": {
    "tags": []
   },
   "outputs": [],
   "source": [
    "#data preprocesing pipeline\n",
    "\n",
    "class ImagePreprocessor:\n",
    "    def normalize(image, mask):\n",
    "        #normalizes image using mask\n",
    "        img_array = sitk.GetArrayFromImage(image).astype(np.float32)\n",
    "        msk_array = sitk.GetArrayFromImage(mask)\n",
    "\n",
    "        mean = np.mean(img_array[msk_array > 0])\n",
    "        std = np.std(img_array[msk_array > 0])\n",
    "\n",
    "        if std > 0:\n",
    "            img_array = (img_array - mean) / std\n",
    "            img_array[msk_array == 0] = 0\n",
    "\n",
    "        image_normalised = sitk.GetImageFromArray(img_array)\n",
    "        image_normalised.CopyInformation(image)\n",
    "\n",
    "        return image_normalised\n",
    "\n",
    "    def resample_image(image, out_spacing=(1.0, 1.0, 1.0), out_size=None, is_label=False, pad_value=0):\n",
    "        #Resamples an image to given element spacing and output size\n",
    "        original_spacing = np.array(image.GetSpacing())\n",
    "        original_size = np.array(image.GetSize())\n",
    "\n",
    "        if out_size is None:\n",
    "            out_size = np.round(np.array(original_size * original_spacing / np.array(out_spacing))).astype(int)\n",
    "        else:\n",
    "            out_size = np.array(out_size)\n",
    "\n",
    "        original_direction = np.array(image.GetDirection()).reshape(len(original_spacing),-1)\n",
    "        original_center = (np.array(original_size, dtype=float) - 1.0) / 2.0 * original_spacing\n",
    "        out_center = (np.array(out_size, dtype=float) - 1.0) / 2.0 * np.array(out_spacing)\n",
    "\n",
    "        original_center = np.matmul(original_direction, original_center)\n",
    "        out_center = np.matmul(original_direction, out_center)\n",
    "        out_origin = np.array(image.GetOrigin()) + (original_center - out_center)\n",
    "\n",
    "        resample = sitk.ResampleImageFilter()\n",
    "        resample.SetOutputSpacing(out_spacing)\n",
    "        resample.SetSize(out_size.tolist())\n",
    "        resample.SetOutputDirection(image.GetDirection())\n",
    "        resample.SetOutputOrigin(out_origin.tolist())\n",
    "        resample.SetTransform(sitk.Transform())\n",
    "        resample.SetDefaultPixelValue(pad_value)\n",
    "\n",
    "        if is_label:\n",
    "            resample.SetInterpolator(sitk.sitkNearestNeighbor)\n",
    "        else:\n",
    "            resample.SetInterpolator(sitk.sitkBSpline)\n",
    "\n",
    "        return resample.Execute(image)\n",
    "\n",
    "class MRIDataset_2(Dataset):\n",
    "    def __init__(self, csv_file, root_dir, mask_dir, img_spacing, img_size):\n",
    "        self.labels_df = pd.read_csv(csv_file)\n",
    "        self.root_dir = root_dir\n",
    "        self.mask_dir = mask_dir\n",
    "\n",
    "\n",
    "    def __len__(self):\n",
    "        return len(self.labels_df)\n",
    "\n",
    "    def __getitem__(self, idx):\n",
    "        img_name = f\"sub-{self.labels_df['subject_id'].iloc[idx]}_T1w_unbiased.nii.gz\"\n",
    "        msk_name = f\"sub-{self.labels_df['subject_id'].iloc[idx]}_T1w_brain_mask.nii.gz\"\n",
    "        img_path = os.path.join(self.root_dir, img_name)\n",
    "        if not os.path.exists(img_path):\n",
    "            raise FileNotFoundError(f\"No such file: '{img_path}'\")\n",
    "        msk_path = os.path.join(self.mask_dir, msk_name)\n",
    "        if not os.path.exists(msk_path):\n",
    "            raise FileNotFoundError(f\"No such file: '{img_path}'\")\n",
    "        # image = nib.load(img_path).get_fdata() #D1,D2,D3\n",
    "        image = sitk.ReadImage(img_path, sitk.sitkFloat32)\n",
    "        msk = sitk.ReadImage(msk_path, sitk.sitkUInt8)\n",
    "        image = ImagePreprocessor.normalize(image, msk)\n",
    "        image = ImagePreprocessor.resample_image(image, img_spacing, img_size, is_label=False)\n",
    "        image = sitk.GetArrayFromImage(image)\n",
    "        label = self.labels_df['age'].iloc[idx]\n",
    "        return torch.from_numpy(image).unsqueeze(0), label"
   ]
  },
  {
   "cell_type": "code",
   "execution_count": 7,
   "metadata": {
    "tags": []
   },
   "outputs": [],
   "source": [
    "train = r'inputs/shared/brain_age/meta/meta_data_all.csv'\n",
    "images = r'C:/Users/aksha/Desktop/opn_ml_final_project/inputs/shared/brain_age/images/'\n",
    "mask =r'C:/Users/aksha/Desktop/opn_ml_final_project/inputs/shared/brain_age/masks/'\n",
    "\n",
    "\n",
    "\n",
    "\n",
    "img_size = [64,64,64]\n",
    "img_spacing = [3, 3, 3]\n",
    "\n",
    "\n",
    "# Load the full dataset\n",
    "full_dataset = MRIDataset_2(train, images, mask, img_spacing, img_size)\n",
    "# Determine the lengths of the training and validation sets\n",
    "train_len = int(0.9 * len(full_dataset))  # 80% of the data for training\n",
    "test_len = len(full_dataset) - train_len   # 20% of the data for validation\n",
    "\n",
    "# Split the dataset\n",
    "train_dataset, test_dataset = random_split(full_dataset, [train_len, test_len])\n",
    "\n",
    "train_len = int(0.9*len(train_dataset))\n",
    "val_len = len(train_dataset) - train_len\n",
    "\n",
    "train_dataset, val_dataset = random_split(train_dataset,[train_len, val_len])\n",
    "\n",
    "# Create data loaders\n",
    "# Create data loaders with a smaller batch size\n",
    "train_loader = DataLoader(train_dataset, batch_size=1, shuffle=True, drop_last=True)\n",
    "val_loader = DataLoader(val_dataset, batch_size=1, shuffle=False)\n",
    "test_loader = DataLoader(test_dataset, batch_size=1, shuffle=False)"
   ]
  },
  {
   "cell_type": "code",
   "execution_count": 5,
   "metadata": {},
   "outputs": [],
   "source": [
    "criterion = nn.L1Loss()\n",
    "model = generate_model(model_depth=34, n_classes = 1, n_input_channels = 1)\n",
    "# Define an optimizer\n",
    "optimizer = torch.optim.Adam(model.parameters(), lr=0.001)"
   ]
  },
  {
   "cell_type": "code",
   "execution_count": 6,
   "metadata": {},
   "outputs": [
    {
     "name": "stdout",
     "output_type": "stream",
     "text": [
      "Epoch 1, Training MAE: 17.953758116691343\n",
      "Epoch 1, Validation MAE: 17.140999616202663\n",
      "Epoch 2, Training MAE: 15.554130930601985\n",
      "Epoch 2, Validation MAE: 15.569105180643373\n",
      "Epoch 3, Training MAE: 15.425831282613853\n",
      "Epoch 3, Validation MAE: 47.135150327520854\n",
      "Epoch 4, Training MAE: 11.90042240207969\n",
      "Epoch 4, Validation MAE: 42.56151367446124\n",
      "Epoch 5, Training MAE: 11.887807183745238\n",
      "Epoch 5, Validation MAE: 17.86476849701445\n",
      "Epoch 6, Training MAE: 9.783434761090794\n",
      "Epoch 6, Validation MAE: 15.091488789703886\n",
      "Epoch 7, Training MAE: 9.631615253282\n",
      "Epoch 7, Validation MAE: 13.300831164343883\n",
      "Epoch 8, Training MAE: 9.076479710935415\n",
      "Epoch 8, Validation MAE: 13.178702241283352\n",
      "Epoch 9, Training MAE: 8.66413988334178\n",
      "Epoch 9, Validation MAE: 10.895911297555697\n",
      "Epoch 10, Training MAE: 8.844723775671827\n",
      "Epoch 10, Validation MAE: 15.932587510448391\n",
      "Epoch 11, Training MAE: 8.276734578315402\n",
      "Epoch 11, Validation MAE: 11.020473350912837\n",
      "Epoch 12, Training MAE: 8.29641538688761\n",
      "Epoch 12, Validation MAE: 13.175129324702894\n",
      "Epoch 13, Training MAE: 7.983085230586651\n",
      "Epoch 13, Validation MAE: 11.60995024341648\n",
      "Epoch 14, Training MAE: 8.08251139154018\n",
      "Epoch 14, Validation MAE: 11.714284702882928\n",
      "Epoch 15, Training MAE: 7.578650689894153\n",
      "Epoch 15, Validation MAE: 10.22245614003327\n",
      "Epoch 16, Training MAE: 7.363941449594226\n",
      "Epoch 16, Validation MAE: 10.986948465896866\n",
      "Epoch 17, Training MAE: 6.991233148882466\n",
      "Epoch 17, Validation MAE: 11.675658436144813\n",
      "Epoch 18, Training MAE: 6.8613908539686985\n",
      "Epoch 18, Validation MAE: 11.776127281835524\n",
      "Epoch 19, Training MAE: 6.551649690805395\n",
      "Epoch 19, Validation MAE: 11.236119027865135\n",
      "Epoch 20, Training MAE: 6.0553357524256555\n",
      "Epoch 20, Validation MAE: 12.024890382411117\n"
     ]
    }
   ],
   "source": [
    "import matplotlib.pyplot as plt\n",
    "\n",
    "# Number of epochs\n",
    "num_epochs = 20\n",
    "\n",
    "# Device configuration - defaults to CPU unless GPU is available\n",
    "use_cuda = torch.cuda.is_available()\n",
    "device = torch.device(\"cuda\")\n",
    "\n",
    "# Move model to the device specified above\n",
    "model.to(device)\n",
    "\n",
    "# Lists to store MAE of each epoch for training and validation\n",
    "train_mae_list = []\n",
    "val_mae_list = []\n",
    "\n",
    "for epoch in range(num_epochs):\n",
    "    model.train()  # Set the model to training mode\n",
    "    train_total_mae = 0\n",
    "    train_total_samples = 0\n",
    "    for i, (images, labels) in enumerate(train_loader):\n",
    "        # Move tensors to the configured device\n",
    "        images = images.to(device).float()\n",
    "        labels = labels.to(device).float().view(-1, 1)\n",
    "        \n",
    "        # Forward pass\n",
    "        outputs = model(images)\n",
    "        loss = criterion(outputs, labels)\n",
    "        \n",
    "        # Backward and optimize\n",
    "        optimizer.zero_grad()\n",
    "        loss.backward()\n",
    "        optimizer.step()\n",
    "\n",
    "        # Calculate MAE for training data\n",
    "        train_mae = torch.abs(outputs - labels).sum()\n",
    "        train_total_mae += train_mae.item()\n",
    "        train_total_samples += labels.size(0)\n",
    "\n",
    "    train_epoch_mae = train_total_mae / train_total_samples\n",
    "    train_mae_list.append(train_epoch_mae)\n",
    "    print(f'Epoch {epoch+1}, Training MAE: {train_epoch_mae}')  # Print training MAE after each epoch\n",
    "        \n",
    "    model.eval()  # Set the model to evaluation mode\n",
    "    val_total_mae = 0\n",
    "    val_total_samples = 0\n",
    "    with torch.no_grad():  # Do not calculate gradients to save memory\n",
    "        for i, (images, labels) in enumerate(val_loader):\n",
    "            images = images.to(device).float()\n",
    "            labels = labels.to(device).float().view(-1, 1)\n",
    "            outputs = model(images)\n",
    "            val_mae = torch.abs(outputs - labels).sum()\n",
    "            val_total_mae += val_mae.item()\n",
    "            val_total_samples += labels.size(0)\n",
    "\n",
    "        val_epoch_mae = val_total_mae / val_total_samples\n",
    "        val_mae_list.append(val_epoch_mae)\n",
    "        print(f'Epoch {epoch+1}, Validation MAE: {val_epoch_mae}')  # Print validation MAE after each epoch\n"
   ]
  },
  {
   "cell_type": "code",
   "execution_count": 9,
   "metadata": {},
   "outputs": [
    {
     "data": {
      "image/png": "[encoded data removed]",
      "text/plain": [
       "<Figure size 1200x600 with 1 Axes>"
      ]
     },
     "metadata": {},
     "output_type": "display_data"
    }
   ],
   "source": [
    "\n",
    "epochs = range(1, len(train_mae_list) + 1)\n",
    "\n",
    "# Plotting\n",
    "plt.figure(figsize=(12,6))\n",
    "plt.plot(epochs, train_mae_list, 'r', label='Training error')\n",
    "plt.plot(epochs, val_mae_list, 'b', label='Validation error')\n",
    "plt.title('Training and Validation Errors over Epochs')\n",
    "plt.xlabel('Epochs')\n",
    "plt.ylabel('Error')\n",
    "plt.legend()\n",
    "plt.show()"
   ]
  },
  {
   "cell_type": "code",
   "execution_count": 7,
   "metadata": {},
   "outputs": [
    {
     "name": "stdout",
     "output_type": "stream",
     "text": [
      "Mean Absolute Error of the model on test images: 12.208390235900879\n"
     ]
    }
   ],
   "source": [
    "model.eval()  # Set the model to evaluation mode for test set\n",
    "total_mae = 0\n",
    "total_samples = 0\n",
    "\n",
    "with torch.no_grad():\n",
    "    for i, (images, labels) in enumerate(test_loader):\n",
    "        images = images.to(device).float()\n",
    "        labels = labels.to(device).float().view(-1, 1)\n",
    "        outputs = model(images)\n",
    "        mae = torch.abs(outputs - labels).sum()\n",
    "        total_mae += mae.item()\n",
    "        total_samples += labels.size(0)\n",
    "\n",
    "test_mae = total_mae / total_samples\n",
    "print(f'Mean Absolute Error of the model on test images: {test_mae}')"
   ]
  },
  {
   "cell_type": "code",
   "execution_count": null,
   "metadata": {},
   "outputs": [],
   "source": [
    "#Save Model\n",
    "path = r'outputs/trained_models/resnet_3d/'\n",
    "model = torch.save(model.state_dict(), path)"
   ]
  },
  {
   "cell_type": "code",
   "execution_count": 8,
   "metadata": {},
   "outputs": [
    {
     "data": {
      "text/plain": [
       "[17.75001710461032,\n",
       " 16.08518236366576,\n",
       " 15.912920168274042,\n",
       " 15.27269766588591,\n",
       " 13.702280417339173,\n",
       " 12.159407208495168,\n",
       " 10.977868060233245,\n",
       " 10.460527163076673,\n",
       " 10.379981180296,\n",
       " 9.28435252151634,\n",
       " 9.138612066771998,\n",
       " 8.612899335104782,\n",
       " 8.349494470817088,\n",
       " 12.361669399254236,\n",
       " 9.725348593840337,\n",
       " 8.85330683366171,\n",
       " 7.94079123683401,\n",
       " 7.432197911010974,\n",
       " 7.413447001853523,\n",
       " 7.176692202602437]"
      ]
     },
     "execution_count": 8,
     "metadata": {},
     "output_type": "execute_result"
    }
   ],
   "source": [
    "train_mae_list"
   ]
  },
  {
   "cell_type": "code",
   "execution_count": null,
   "metadata": {},
   "outputs": [],
   "source": []
  }
 ],
 "metadata": {
  "kernelspec": {
   "display_name": "myenv2",
   "language": "python",
   "name": "myenv2"
  },
  "language_info": {
   "codemirror_mode": {
    "name": "ipython",
    "version": 3
   },
   "file_extension": ".py",
   "mimetype": "text/x-python",
   "name": "python",
   "nbconvert_exporter": "python",
   "pygments_lexer": "ipython3",
   "version": "3.8.18"
  }
 },
 "nbformat": 4,
 "nbformat_minor": 4
}
