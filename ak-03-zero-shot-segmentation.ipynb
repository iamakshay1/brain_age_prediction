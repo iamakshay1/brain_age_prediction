{
 "cells": [
  {
   "cell_type": "code",
   "execution_count": 14,
   "metadata": {},
   "outputs": [],
   "source": [
    "from PIL import Image\n",
    "import pandas as pd\n",
    "import matplotlib.pyplot as plt\n",
    "import numpy as np\n",
    "import SimpleITK as sitk\n",
    "import os\n",
    "from PIL import Image\n",
    "import nibabel as nib\n",
    "import glob\n",
    "from transformers import pipeline\n",
    "import numpy as np\n",
    "import gc\n",
    "import SimpleITK as sitk\n",
    "import numpy as np\n"
   ]
  },
  {
   "cell_type": "code",
   "execution_count": 4,
   "metadata": {},
   "outputs": [],
   "source": [
    "data_dir = r'C:/Users/aksha/Desktop/opn_ml_final_project/inputs/shared/brain_age/'\n",
    "meta_data = pd.read_csv(data_dir + 'meta/meta_data_all.csv')\n",
    "meta_data.head()\n",
    "images_2d = r'C:/Users/aksha/Desktop/opn_ml_final_project/inputs/2d_images/x_axis/'\n",
    "os.makedirs(images_2d, exist_ok = True)"
   ]
  },
  {
   "cell_type": "code",
   "execution_count": 6,
   "metadata": {},
   "outputs": [],
   "source": [
    "for i in range(0, len(meta_data['subject_id'])):\n",
    "    img =sitk.ReadImage(data_dir + 'images/sub-' + meta_data['subject_id'][i]+ '_T1w_unbiased.nii.gz')\n",
    "    img_array = sitk.GetArrayFromImage(img)\n",
    "    mask =sitk.ReadImage(data_dir + 'masks/sub-' + meta_data['subject_id'][i]+ '_T1w_brain_mask.nii.gz')\n",
    "    mask_array = sitk.GetArrayFromImage(img)\n",
    "    \n",
    "    x = int(img.GetSize()[0]/2)\n",
    "    y = int(img.GetSize()[1]/2)\n",
    "    z = int(img.GetSize()[2]/2)\n",
    "\n",
    "    top_slice = img[z,:,:]\n",
    "    back_slice = img[:,y,:]\n",
    "    front_slice = img[:,:,x]\n",
    "\n",
    "\n",
    "    top_slice_path = r'C:/Users/aksha/Desktop/opn_ml_final_project/inputs/2d_images/x_axis/'\n",
    "    back_slice_path = r'C:/Users/aksha/Desktop/opn_ml_final_project/inputs/2d_images/y_axis/'\n",
    "    front_slice_path = r'C:/Users/aksha/Desktop/opn_ml_final_project/inputs/2d_images/z_axis/'\n",
    "\n",
    "    sitk.WriteImage(top_slice, top_slice_path + meta_data['subject_id'][i] + '.nii.gz')\n",
    "    sitk.WriteImage(back_slice, back_slice_path + meta_data['subject_id'][i] + '.nii.gz')\n",
    "    sitk.WriteImage(front_slice, front_slice_path + meta_data['subject_id'][i] + '.nii.gz')"
   ]
  },
  {
   "cell_type": "code",
   "execution_count": 8,
   "metadata": {},
   "outputs": [],
   "source": [
    "import matplotlib.pyplot as plt\n",
    "for i in range(0, len(meta_data['subject_id'])):\n",
    "    mask =sitk.ReadImage(data_dir + 'masks/sub-' + meta_data['subject_id'][i]+ '_T1w_brain_mask.nii.gz')\n",
    "    \n",
    "    x = int(mask.GetSize()[0]/2)\n",
    "    y = int(mask.GetSize()[1]/2)\n",
    "    z = int(mask.GetSize()[2]/2)\n",
    "\n",
    "    top_slice = mask[z,:,:]\n",
    "    back_slice = mask[:,y,:]\n",
    "    front_slice = mask[:,:,x]\n",
    "\n",
    "    top_slice_path = r'C:/Users/aksha/Desktop/opn_ml_final_project/inputs/2d_masks/x_axis/'\n",
    "    back_slice_path = r'C:/Users/aksha/Desktop/opn_ml_final_project/inputs/2d_masks/y_axis/'\n",
    "    front_slice_path = r'C:/Users/aksha/Desktop/opn_ml_final_project/inputs/2d_masks/z_axis/'\n",
    "\n",
    "    sitk.WriteImage(top_slice, top_slice_path + meta_data['subject_id'][i] + '_brain_mask.nii.gz')\n",
    "    sitk.WriteImage(back_slice, back_slice_path + meta_data['subject_id'][i] + '_brain_mask.nii.gz')\n",
    "    sitk.WriteImage(front_slice, front_slice_path + meta_data['subject_id'][i] + '_brain_mask.nii.gz')"
   ]
  },
  {
   "cell_type": "code",
   "execution_count": 13,
   "metadata": {},
   "outputs": [],
   "source": [
    "#Converting Images to PNG format for Zero-Shot Segmentation.\n",
    "images_2d_path = r'C:/Users/aksha/Desktop/opn_ml_final_project/inputs/2d_images/y_axis/'\n",
    "extension = '*.nii.gz'\n",
    "search_path = images_2d_path + extension\n",
    "\n",
    "nii_files = glob.glob(search_path)\n",
    "for file in nii_files:\n",
    "    nii_data = nib.load(file) # load the file as a nibabel object\n",
    "    png_image = Image.fromarray(nii_data.get_fdata())\n",
    "    png_image = png_image.convert('L')\n",
    "    png_image.save(file+'.png') \n"
   ]
  },
  {
   "cell_type": "code",
   "execution_count": 20,
   "metadata": {},
   "outputs": [],
   "source": [
    "#Utils for zero shot\n",
    "def display_mask(mask, axis, use_random_color=False):\n",
    "    if use_random_color:\n",
    "        color = np.concatenate([np.random.random(3), np.array([0.6])], axis=0)\n",
    "    else:\n",
    "        color = np.array([30 / 255, 144 / 255, 255 / 255, 0.6])\n",
    "    \n",
    "    height, width = mask.shape[-2:]\n",
    "    mask_image = mask.reshape(height, width, 1) * color.reshape(1, 1, -1)\n",
    "    axis.imshow(mask_image)\n",
    "    del mask\n",
    "    gc.collect()\n",
    "\n",
    "def display_masks_on_image(raw_image, masks):\n",
    "    plt.imshow(np.array(raw_image))\n",
    "    axis = plt.gca()\n",
    "    axis.set_autoscale_on(False)\n",
    "    \n",
    "    for mask in masks:\n",
    "        display_mask(mask, axis=axis, use_random_color=True)\n",
    "    \n",
    "    plt.axis(\"off\")\n",
    "    plt.show()\n",
    "    del masks\n",
    "    gc.collect()"
   ]
  },
  {
   "cell_type": "code",
   "execution_count": 17,
   "metadata": {},
   "outputs": [],
   "source": [
    "#Zero Shot Segmentation\n",
    "generator = pipeline(\"mask-generation\", model=\"facebook/sam-vit-huge\")\n",
    "img = r\"inputs\\2d_images\\y_axis\\CC110033.nii.gz.png\"\n",
    "img = Image.open(img)\n",
    "outputs = generator(img)"
   ]
  },
  {
   "cell_type": "code",
   "execution_count": 24,
   "metadata": {},
   "outputs": [
    {
     "data": {
      "image/png": "[encoded data removed]",
      "text/plain": [
       "<Figure size 640x480 with 1 Axes>"
      ]
     },
     "metadata": {},
     "output_type": "display_data"
    },
    {
     "name": "stdout",
     "output_type": "stream",
     "text": [
      "No of Segments - 11\n"
     ]
    }
   ],
   "source": [
    "masks = outputs[\"masks\"]\n",
    "display_masks_on_image(img, masks)\n",
    "print('No of Segments -', len(outputs['masks']))"
   ]
  }
 ],
 "metadata": {
  "kernelspec": {
   "display_name": "base",
   "language": "python",
   "name": "python3"
  },
  "language_info": {
   "codemirror_mode": {
    "name": "ipython",
    "version": 3
   },
   "file_extension": ".py",
   "mimetype": "text/x-python",
   "name": "python",
   "nbconvert_exporter": "python",
   "pygments_lexer": "ipython3",
   "version": "3.11.3"
  }
 },
 "nbformat": 4,
 "nbformat_minor": 2
}
